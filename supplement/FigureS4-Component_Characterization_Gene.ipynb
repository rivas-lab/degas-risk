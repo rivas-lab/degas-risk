{
 "cells": [
  {
   "cell_type": "code",
   "execution_count": 1,
   "metadata": {},
   "outputs": [],
   "source": [
    "import numpy as np \n",
    "import pandas as pd\n",
    "import matplotlib.pyplot as plt\n",
    "import seaborn as sns\n",
    "import gzip\n",
    "import time"
   ]
  },
  {
   "cell_type": "code",
   "execution_count": null,
   "metadata": {},
   "outputs": [],
   "source": [
    "dataset='z_center_p001'\n",
    "npc=300\n",
    "z=np.load('/oak/stanford/groups/mrivas/projects/degas-risk/datasets/train/tsvd/all_'+dataset+'_20190805_500PCs.npz')\n",
    "with gzip.open('/oak/stanford/groups/mrivas/private_data/ukbb/'+\n",
    "               'variant_filtering/variant_filter_table.old.tsv.gz', 'r') as f:\n",
    "    var2gene={line.split('\\t')[4]:line.split('\\t')[12].split('|')[3] for line in f if '|' in line.split('\\t')[12]}\n",
    "var2gene={k:v if v else 'none' for k,v in var2gene.items()}\n",
    "varcont=pd.DataFrame(z['U'][:,:npc], columns=['PC{}'.format(i+1) for i in range(npc)])\n",
    "varcont.index=pd.MultiIndex.from_tuples([(var2gene[v] if v in var2gene else 'none',v) for v in z['label_var']])"
   ]
  },
  {
   "cell_type": "code",
   "execution_count": null,
   "metadata": {
    "scrolled": false
   },
   "outputs": [
    {
     "name": "stdout",
     "output_type": "stream",
     "text": [
      "PC1\n"
     ]
    }
   ],
   "source": [
    "patterns = ('-', '+', 'x', '\\\\', '*', '.')\n",
    "for pc in range(npc):\n",
    "    print('PC'+str(pc+1))\n",
    "    t=time.time()\n",
    "    plt.figure(figsize=(5,5), dpi=150)\n",
    "    gene2cont=dict(map(lambda g:(g,(varcont.xs(g, axis=0, level=0).iloc[:,pc]**2).sum()),\n",
    "                       varcont.index.get_level_values(0)))\n",
    "    print('done summing')\n",
    "    base=0\n",
    "    for ix,(gene,c2) in enumerate(sorted(gene2cont.items(), key=lambda x:(x[0]=='none')-x[1])):\n",
    "        if c2/(varcont.iloc[:,pc]**2).sum() > 1e-3 and ix < 25:\n",
    "            plt.bar(list(range(3)),\n",
    "                    [c2/(varcont.iloc[:,pc]**2).sum(),0,0], \n",
    "                    bottom=[base,0,0],\n",
    "                    label=gene,\n",
    "                    hatch=patterns[(ix + 4) % len(patterns) ]\n",
    "                   )\n",
    "        else:\n",
    "            plt.bar(list(range(3)), [1-base,0,0], bottom=base,  color='grey')\n",
    "            plt.xticks(list(range(3)), ['PC{}'.format(pc+1),'',''])\n",
    "            plt.ylabel('Gene contribution score')\n",
    "            plt.legend(fontsize=6, loc='upper left', bbox_to_anchor=(1, 1))\n",
    "            break\n",
    "        base+=c2/(varcont.iloc[:,pc]**2).sum()\n",
    "    plt.show()\n",
    "    print(time.time()-t)"
   ]
  },
  {
   "cell_type": "code",
   "execution_count": null,
   "metadata": {},
   "outputs": [],
   "source": []
  }
 ],
 "metadata": {
  "kernelspec": {
   "display_name": "Python 2",
   "language": "python",
   "name": "python2"
  },
  "language_info": {
   "codemirror_mode": {
    "name": "ipython",
    "version": 2
   },
   "file_extension": ".py",
   "mimetype": "text/x-python",
   "name": "python",
   "nbconvert_exporter": "python",
   "pygments_lexer": "ipython2",
   "version": "2.7.5"
  }
 },
 "nbformat": 4,
 "nbformat_minor": 2
}
